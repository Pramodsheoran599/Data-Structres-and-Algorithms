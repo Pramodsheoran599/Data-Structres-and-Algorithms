{
 "cells": [
  {
   "cell_type": "markdown",
   "metadata": {},
   "source": [
    "# Singly Linked List Implementation"
   ]
  },
  {
   "cell_type": "markdown",
   "metadata": {},
   "source": [
    "#### Classes:\n",
    "\n",
    "|Class|Description|\n",
    "|--------|-----------|\n",
    "|Node | Creating a node with a value and a pointer to the next node.|\n",
    "|Linked_List | A list of Nodes connected in one direction.|\n",
    "\n",
    "<br>\n",
    "\n",
    "#### Member of Linked List\n",
    "\n",
    "|Member|Description|\n",
    "|--------|-----------|\n",
    "| Linked_List.length | Length stored for quick access instead of looping everytime.|\n",
    "\n",
    "<br>\n",
    "\n",
    "#### Functions of Linked List:\n",
    "\n",
    "|Function|Description|\n",
    "|--------|-----------|\n",
    "|append(value) | Append to the List (Tail Node).|\n",
    "|del_element(value) | Delete the first occurance of the value from the list.|\n",
    "|del_position(position) | Delete the Node at the given position.|\n",
    "|display() | Display the nodes in the linked list.|\n",
    "|get_element(position) | Get Value of the node at the given position.|\n",
    "|get_list() | Returning a List of all the Values in the Linked List.|\n",
    "|get_position(value) | Get index Position (statring from 0) of the node containing the given value.|\n",
    "|insert(value, position) | Insert Given Value at the given position.|\n",
    "|reverse() | Reverse the Linked List.|"
   ]
  },
  {
   "cell_type": "code",
   "execution_count": 1,
   "metadata": {},
   "outputs": [],
   "source": [
    "# Each Node in the List containing a value and location of the next Node(By Default None)\n",
    "\n",
    "class Node():\n",
    "    def __init__(self, value):\n",
    "        \"\"\"Initialize a Node with Given Value\"\"\"\n",
    "        self.value = value\n",
    "        self.next = None"
   ]
  },
  {
   "cell_type": "code",
   "execution_count": 2,
   "metadata": {},
   "outputs": [],
   "source": [
    "# Linked List Implementation\n",
    "\n",
    "class Linked_List():\n",
    "    def __init__(self):         \n",
    "        \"\"\"When Initialized it will create an empty head node.\"\"\"\n",
    "        self.head = None          \n",
    "        self.length = 0                      # Length stored for quick access instead of looping everytime.\n",
    "\n",
    "##############################################################################################################################\n",
    "\n",
    "    def append(self, value):\n",
    "        \"\"\"Append to the List (End Node).\"\"\"\n",
    "\n",
    "        new_node = Node(value)\n",
    "\n",
    "        if self.head is None:                           # If head not present in the list\n",
    "            self.head = new_node                            # Append new node as Head\n",
    "            self.length += 1\n",
    "\n",
    "        else:                                           # Else\n",
    "            current = self.head                            # Get the head node\n",
    "\n",
    "            while current.next:                            # Loop till reached tail node.\n",
    "                current = current.next\n",
    "\n",
    "            current.next = new_node                        # Attach new node to the tail node\n",
    "            self.length += 1\n",
    "\n",
    "##############################################################################################################################        \n",
    "        \n",
    "    def del_element(self, value):         \n",
    "        \"\"\"Delete the first occurance of the value from the list.\"\"\"\n",
    "        \n",
    "        if self.head is None:\n",
    "            print(\"Error, List is Empty\")\n",
    "        \n",
    "        elif self.head.value == value:\n",
    "            del_node = self.head\n",
    "            self.head = self.head.next\n",
    "            del del_node\n",
    "\n",
    "            self.length -= 1\n",
    "        \n",
    "        else:\n",
    "            position = self.get_position(value)                 # Get position of the node in the list\n",
    "            \n",
    "            if position == None:\n",
    "                print('Error, Value Not Present in the List.')\n",
    "            \n",
    "            else:\n",
    "                current_node = self.head\n",
    "\n",
    "                for pos in range(position - 1):                 # Reach the node previous to the position \n",
    "                    current_node = current_node.next\n",
    "\n",
    "                del_node = current_node.next\n",
    "                current_node.next = del_node.next\n",
    "                del del_node\n",
    "\n",
    "                self.length -= 1\n",
    "\n",
    "##############################################################################################################################    \n",
    "    \n",
    "    def del_position(self, position):    \n",
    "        \"\"\"Delete the Node at the given position.\"\"\"\n",
    "        \n",
    "        if self.head is None:\n",
    "            print(\"Error, List is Empty\")\n",
    "        \n",
    "        elif position == 0:\n",
    "            del_node = self.head\n",
    "            self.head = self.head.next\n",
    "            del del_node\n",
    "\n",
    "            self.length -= 1\n",
    "        \n",
    "        elif 0 < position < self.length:\n",
    "            current_node = self.head\n",
    "\n",
    "            for i in range(position - 1):                         # Reach the node previous to the position \n",
    "                current_node = current_node.next\n",
    "\n",
    "            del_node = current_node.next\n",
    "            current_node.next = del_node.next\n",
    "            del(del_node)\n",
    "\n",
    "            self.length -= 1\n",
    "        \n",
    "        else:\n",
    "            print(\"Error, Invalid Position.\")\n",
    "\n",
    "##############################################################################################################################   \n",
    "    \n",
    "    def display(self):\n",
    "        \"\"\"Display the nodes in the linked list.\"\"\"\n",
    "        values = self.get_list()\n",
    "        \n",
    "        for value in values:\n",
    "            print(str(value) + \" --> \", end = \"\")\n",
    "        \n",
    "        print(None)\n",
    "\n",
    "##############################################################################################################################\n",
    "\n",
    "    def get_element(self, position): \n",
    "        \"\"\"Get Value of the node at the given position.\"\"\"\n",
    "        current_node = self.head\n",
    "        \n",
    "        if position >= 0 and position < self.length:\n",
    "            for i in range(0, position):\n",
    "                current_node = current_node.next\n",
    "\n",
    "            return current_node.value\n",
    "        \n",
    "        else:\n",
    "            print(\"Error, List is Empty.\")\n",
    "\n",
    "##############################################################################################################################    \n",
    "\n",
    "    def get_list(self):                  \n",
    "        \"\"\"Returning a List of all the Values in the Linked List.\"\"\"\n",
    "        \n",
    "        current_node = self.head\n",
    "        output = []\n",
    "        \n",
    "        for i in range(self.length):\n",
    "            output.append(current_node.value)\n",
    "            current_node = current_node.next\n",
    "            \n",
    "        return output\n",
    "\n",
    "##############################################################################################################################    \n",
    "    \n",
    "    def get_position(self, value): \n",
    "        \"\"\"Get index Position (statring from 0) of the node containing the given value.\"\"\"\n",
    "        \n",
    "        if self.head is None:\n",
    "            print(\"Error, List is Empty\")\n",
    "        \n",
    "        else:\n",
    "            current_node = self.head\n",
    "            position = 0\n",
    "\n",
    "            while current_node:                         # Loop current node value matches.\n",
    "                if current_node.value == value:\n",
    "                    return position\n",
    "                position += 1\n",
    "                current_node = current_node.next\n",
    "\n",
    "            return None                                # If value not found return None\n",
    "\n",
    "##############################################################################################################################\n",
    "    \n",
    "    def insert(self, value, position): \n",
    "        \"\"\"Insert Given Value at the given position.\"\"\"\n",
    "        new_node = Node(value)\n",
    "        \n",
    "        if position == 0:                                 # Insert Head\n",
    "            new_node.next = self.head\n",
    "            self.head = new_node\n",
    "        \n",
    "        elif position == self.length:                     # If position is last\n",
    "            self.append(value)\n",
    "        \n",
    "        else:\n",
    "            current_node = self.head\n",
    "            \n",
    "            if 0 <= position < self.length:\n",
    "                for i in range(1, position):\n",
    "                    current_node = current_node.next\n",
    "\n",
    "                new_node.next = current_node.next\n",
    "                current_node.next = new_node\n",
    "                self.length += 1\n",
    "\n",
    "            else:\n",
    "                print(\"Error,  Invalid Position Value.\")\n",
    "                return None\n",
    "\n",
    "##############################################################################################################################        \n",
    "\n",
    "    def reverse(self):\n",
    "        \"\"\"Reverse the Linked List\"\"\"\n",
    "        \n",
    "        if self.head is None:\n",
    "            print(\"Error, List is Empty.\")\n",
    "        \n",
    "        else:\n",
    "            if self.length == 1:              \n",
    "                return self.head\n",
    "            \n",
    "            else:\n",
    "                first = self.head                      \n",
    "                second = first.next\n",
    "\n",
    "                while second:                        # Create a window like structre and loop till reversed the list.\n",
    "                    temp = second.next\n",
    "                    second.next = first\n",
    "                    first = second\n",
    "                    second = temp\n",
    "\n",
    "                self.head.next = None               # Now Head node has become Tail Node\n",
    "                self.head = first                   # Update the Head Node."
   ]
  },
  {
   "cell_type": "code",
   "execution_count": 3,
   "metadata": {},
   "outputs": [],
   "source": [
    "# Creating the List with a head value of 1.\n",
    "\n",
    "linked_list = Linked_List()"
   ]
  },
  {
   "cell_type": "code",
   "execution_count": 4,
   "metadata": {},
   "outputs": [],
   "source": [
    "# Inserting the values in the list.\n",
    "\n",
    "linked_list.append(1)\n",
    "linked_list.append(2)\n",
    "linked_list.append(3)\n",
    "linked_list.append(4)\n",
    "linked_list.append(5)"
   ]
  },
  {
   "cell_type": "code",
   "execution_count": 5,
   "metadata": {},
   "outputs": [
    {
     "name": "stdout",
     "output_type": "stream",
     "text": [
      "1 --> 2 --> 3 --> 4 --> 5 --> None\n"
     ]
    }
   ],
   "source": [
    "# Display the List.\n",
    "\n",
    "linked_list.display()"
   ]
  },
  {
   "cell_type": "code",
   "execution_count": 6,
   "metadata": {},
   "outputs": [
    {
     "data": {
      "text/plain": [
       "3"
      ]
     },
     "execution_count": 6,
     "metadata": {},
     "output_type": "execute_result"
    }
   ],
   "source": [
    "# Get Value of the node at the given position.\n",
    "\n",
    "linked_list.get_element(2)"
   ]
  },
  {
   "cell_type": "code",
   "execution_count": 7,
   "metadata": {},
   "outputs": [
    {
     "name": "stdout",
     "output_type": "stream",
     "text": [
      "2\n"
     ]
    }
   ],
   "source": [
    "# Get index Position (statring from 0) of a node in the list.\n",
    "\n",
    "print(linked_list.get_position(3))"
   ]
  },
  {
   "cell_type": "code",
   "execution_count": 8,
   "metadata": {},
   "outputs": [
    {
     "data": {
      "text/plain": [
       "[1, 2, 3, 4, 5]"
      ]
     },
     "execution_count": 8,
     "metadata": {},
     "output_type": "execute_result"
    }
   ],
   "source": [
    "# Get a List of Values in the Linked List\n",
    "\n",
    "linked_list.get_list()"
   ]
  },
  {
   "cell_type": "code",
   "execution_count": 9,
   "metadata": {},
   "outputs": [
    {
     "name": "stdout",
     "output_type": "stream",
     "text": [
      "1 --> 2 --> 3 --> 4 --> 5 --> 6 --> None\n"
     ]
    }
   ],
   "source": [
    "# Insert an element at the given position.\n",
    "\n",
    "linked_list.insert(6, 5)\n",
    "linked_list.display()"
   ]
  },
  {
   "cell_type": "code",
   "execution_count": 10,
   "metadata": {},
   "outputs": [
    {
     "name": "stdout",
     "output_type": "stream",
     "text": [
      "6 --> 5 --> 4 --> 3 --> 2 --> 1 --> None\n"
     ]
    }
   ],
   "source": [
    "# Reverse the List.\n",
    "\n",
    "linked_list.reverse()\n",
    "linked_list.display()"
   ]
  },
  {
   "cell_type": "code",
   "execution_count": 11,
   "metadata": {},
   "outputs": [
    {
     "data": {
      "text/plain": [
       "6"
      ]
     },
     "execution_count": 11,
     "metadata": {},
     "output_type": "execute_result"
    }
   ],
   "source": [
    "# Get Length of the Linked List\n",
    "\n",
    "linked_list.length"
   ]
  },
  {
   "cell_type": "code",
   "execution_count": 12,
   "metadata": {},
   "outputs": [
    {
     "name": "stdout",
     "output_type": "stream",
     "text": [
      "6 --> 5 --> 4 --> 2 --> 1 --> None\n"
     ]
    }
   ],
   "source": [
    "# Delete the First Occurance of a node with the given Value\n",
    "\n",
    "linked_list.del_element(3)\n",
    "linked_list.display()"
   ]
  },
  {
   "cell_type": "code",
   "execution_count": 13,
   "metadata": {},
   "outputs": [
    {
     "name": "stdout",
     "output_type": "stream",
     "text": [
      "6 --> 5 --> 4 --> 1 --> None\n"
     ]
    }
   ],
   "source": [
    "# Delete the Node at the given position\n",
    "\n",
    "linked_list.del_position(3)\n",
    "linked_list.display()\n"
   ]
  }
 ],
 "metadata": {
  "kernelspec": {
   "display_name": "Python 3",
   "language": "python",
   "name": "python3"
  },
  "language_info": {
   "codemirror_mode": {
    "name": "ipython",
    "version": 3
   },
   "file_extension": ".py",
   "mimetype": "text/x-python",
   "name": "python",
   "nbconvert_exporter": "python",
   "pygments_lexer": "ipython3",
   "version": "3.8.8"
  },
  "toc": {
   "base_numbering": 1,
   "nav_menu": {},
   "number_sections": true,
   "sideBar": true,
   "skip_h1_title": false,
   "title_cell": "Table of Contents",
   "title_sidebar": "Contents",
   "toc_cell": false,
   "toc_position": {},
   "toc_section_display": true,
   "toc_window_display": false
  },
  "varInspector": {
   "cols": {
    "lenName": 16,
    "lenType": 16,
    "lenVar": 40
   },
   "kernels_config": {
    "python": {
     "delete_cmd_postfix": "",
     "delete_cmd_prefix": "del ",
     "library": "var_list.py",
     "varRefreshCmd": "print(var_dic_list())"
    },
    "r": {
     "delete_cmd_postfix": ") ",
     "delete_cmd_prefix": "rm(",
     "library": "var_list.r",
     "varRefreshCmd": "cat(var_dic_list()) "
    }
   },
   "types_to_exclude": [
    "module",
    "function",
    "builtin_function_or_method",
    "instance",
    "_Feature"
   ],
   "window_display": false
  }
 },
 "nbformat": 4,
 "nbformat_minor": 4
}
